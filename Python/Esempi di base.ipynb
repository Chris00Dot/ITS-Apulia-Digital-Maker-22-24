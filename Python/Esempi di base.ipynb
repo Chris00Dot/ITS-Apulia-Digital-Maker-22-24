{
 "cells": [
  {
   "cell_type": "code",
   "execution_count": 0,
   "metadata": {
    "application/vnd.databricks.v1+cell": {
     "cellMetadata": {
      "byteLimit": 2048000,
      "rowLimit": 10000
     },
     "inputWidgets": {},
     "nuid": "93be6cde-53de-4f82-8ce4-8f2942346e01",
     "showTitle": false,
     "title": ""
    }
   },
   "outputs": [
    {
     "name": "stdout",
     "output_type": "stream",
     "text": [
      "Hello World\n"
     ]
    }
   ],
   "source": [
    "#Primo programma\n",
    "print(\"Hello World\")"
   ]
  },
  {
   "cell_type": "code",
   "execution_count": 0,
   "metadata": {
    "application/vnd.databricks.v1+cell": {
     "cellMetadata": {
      "byteLimit": 2048000,
      "rowLimit": 10000
     },
     "inputWidgets": {},
     "nuid": "8b5dd0d1-fcac-481c-a1b9-aa4ca50e33af",
     "showTitle": false,
     "title": ""
    }
   },
   "outputs": [
    {
     "name": "stdout",
     "output_type": "stream",
     "text": [
      "<class 'int'>\n",
      "10\n",
      "<class 'list'>\n",
      "[1, 2, 3, 4]\n"
     ]
    }
   ],
   "source": [
    "#Output\n",
    "\n",
    "a = 10\n",
    "\n",
    "print(type(a))\n",
    "print(a)\n",
    "\n",
    "a = [1, 2, 3, 4]\n",
    "\n",
    "print(type(a))\n",
    "print(a)"
   ]
  },
  {
   "cell_type": "code",
   "execution_count": 0,
   "metadata": {
    "application/vnd.databricks.v1+cell": {
     "cellMetadata": {
      "byteLimit": 2048000,
      "rowLimit": 10000
     },
     "inputWidgets": {},
     "nuid": "35e48c2d-3362-42e2-a17b-edb5b5d22bcf",
     "showTitle": false,
     "title": ""
    }
   },
   "outputs": [
    {
     "name": "stdout",
     "output_type": "stream",
     "text": [
      "Out[58]: 15"
     ]
    }
   ],
   "source": [
    "#Funzione somma\n",
    "\n",
    "def somma(a, b):\n",
    "    c = a + b\n",
    "    return c\n",
    "\n",
    "somma(4, 11)"
   ]
  },
  {
   "cell_type": "code",
   "execution_count": 0,
   "metadata": {
    "application/vnd.databricks.v1+cell": {
     "cellMetadata": {
      "byteLimit": 2048000,
      "rowLimit": 10000
     },
     "inputWidgets": {},
     "nuid": "b579caed-5d80-4af8-922e-a91ab09fba67",
     "showTitle": false,
     "title": ""
    }
   },
   "outputs": [
    {
     "name": "stdout",
     "output_type": "stream",
     "text": [
      "Hello World\n",
      "l\n",
      "Hello world\n",
      "HELLO WORLD\n",
      "hello world\n",
      "Hallo World\n"
     ]
    }
   ],
   "source": [
    "#Stringa \n",
    "\n",
    "a = 'Hello World'\n",
    "\n",
    "print(a)\n",
    "print(a[2])\n",
    "print(a.capitalize())\n",
    "print(a.upper())\n",
    "print(a.lower())\n",
    "print(a.replace('e', 'a'))"
   ]
  },
  {
   "cell_type": "code",
   "execution_count": 0,
   "metadata": {
    "application/vnd.databricks.v1+cell": {
     "cellMetadata": {
      "byteLimit": 2048000,
      "rowLimit": 10000
     },
     "inputWidgets": {},
     "nuid": "e5476259-84b7-43c4-8681-4314d88edf3b",
     "showTitle": false,
     "title": ""
    }
   },
   "outputs": [
    {
     "name": "stdout",
     "output_type": "stream",
     "text": [
      "Hello World\n"
     ]
    }
   ],
   "source": [
    "#Concatenamento\n",
    "\n",
    "a = \"Hello\"\n",
    "b = \"World\"\n",
    "\n",
    "print(a + \" \" + b)"
   ]
  },
  {
   "cell_type": "code",
   "execution_count": 0,
   "metadata": {
    "application/vnd.databricks.v1+cell": {
     "cellMetadata": {
      "byteLimit": 2048000,
      "rowLimit": 10000
     },
     "inputWidgets": {},
     "nuid": "45df3683-aee6-46e6-8b49-7748d0f6c360",
     "showTitle": false,
     "title": ""
    }
   },
   "outputs": [
    {
     "name": "stdout",
     "output_type": "stream",
     "text": [
      "Somma:  111\n",
      "Differenza:  91\n",
      "Prodotto:  1010\n",
      "Divisione:  10.1\n",
      "Elevamento a potenza:  110462212541120451001\n"
     ]
    }
   ],
   "source": [
    "#Numeri (interi e float)\n",
    "\n",
    "a = 101\n",
    "b = 10\n",
    "\n",
    "print(\"Somma: \", a + b)\n",
    "print(\"Differenza: \", a - b)\n",
    "print(\"Prodotto: \", a * b)\n",
    "print(\"Divisione: \", a / b)\n",
    "print(\"Elevamento a potenza: \", a ** b)"
   ]
  },
  {
   "cell_type": "code",
   "execution_count": 0,
   "metadata": {
    "application/vnd.databricks.v1+cell": {
     "cellMetadata": {
      "byteLimit": 2048000,
      "rowLimit": 10000
     },
     "inputWidgets": {},
     "nuid": "322c5099-ae67-4493-97a9-12c3ccf19c2e",
     "showTitle": false,
     "title": ""
    }
   },
   "outputs": [
    {
     "name": "stdout",
     "output_type": "stream",
     "text": [
      "<class 'list'>\n",
      "True\n",
      "[1, True, 'Ciao Mark']\n"
     ]
    }
   ],
   "source": [
    "#Liste\n",
    "\n",
    "l = [1, True, \"Ciao\"]\n",
    "print(type(l))\n",
    "print(l[1])\n",
    "\n",
    "l[2] = \"Ciao Mark\"\n",
    "\n",
    "print(l)"
   ]
  },
  {
   "cell_type": "code",
   "execution_count": 0,
   "metadata": {
    "application/vnd.databricks.v1+cell": {
     "cellMetadata": {
      "byteLimit": 2048000,
      "rowLimit": 10000
     },
     "inputWidgets": {},
     "nuid": "55930b18-9846-4bdc-b5ce-59a770e1ac07",
     "showTitle": false,
     "title": ""
    }
   },
   "outputs": [
    {
     "name": "stdout",
     "output_type": "stream",
     "text": [
      "<class 'tuple'>\n",
      "1\n",
      "(1, 'Vamos', False)\n"
     ]
    }
   ],
   "source": [
    "#Tuple\n",
    "\n",
    "t = (1, \"Vamos\", False)\n",
    "print(type(t))\n",
    "print(t[0])\n",
    "\n",
    "print(t)"
   ]
  },
  {
   "cell_type": "code",
   "execution_count": 0,
   "metadata": {
    "application/vnd.databricks.v1+cell": {
     "cellMetadata": {
      "byteLimit": 2048000,
      "rowLimit": 10000
     },
     "inputWidgets": {},
     "nuid": "6090b48b-df3a-41eb-a9f4-7791a0b3a319",
     "showTitle": false,
     "title": ""
    }
   },
   "outputs": [
    {
     "name": "stdout",
     "output_type": "stream",
     "text": [
      "<class 'set'>\n",
      "{1, 'Ciao'}\n"
     ]
    }
   ],
   "source": [
    "#Set \n",
    "\n",
    "s = {1, \"Ciao\", True}\n",
    "print(type(s))\n",
    "print(s)"
   ]
  },
  {
   "cell_type": "code",
   "execution_count": 0,
   "metadata": {
    "application/vnd.databricks.v1+cell": {
     "cellMetadata": {
      "byteLimit": 2048000,
      "rowLimit": 10000
     },
     "inputWidgets": {},
     "nuid": "0b639945-d3fd-490b-9a03-23fcc07a2f3e",
     "showTitle": false,
     "title": ""
    }
   },
   "outputs": [
    {
     "name": "stdout",
     "output_type": "stream",
     "text": [
      "{'Key1': 1, 'Key2': 'Ciao', 'Key3': False, 'Key4': 'Ciao'}\n",
      "Ciao\n"
     ]
    }
   ],
   "source": [
    "#Dizionari\n",
    "\n",
    "d = {\"Key1\": 1, \"Key2\": \"Ciao\", \"Key3\": False, \"Key4\": \"Ciao\"}\n",
    "print(d)\n",
    "print(d[\"Key2\"])"
   ]
  },
  {
   "cell_type": "code",
   "execution_count": 0,
   "metadata": {
    "application/vnd.databricks.v1+cell": {
     "cellMetadata": {
      "byteLimit": 2048000,
      "rowLimit": 10000
     },
     "inputWidgets": {},
     "nuid": "73ca42d3-adef-43df-bd01-905011626dbd",
     "showTitle": false,
     "title": ""
    }
   },
   "outputs": [
    {
     "name": "stdout",
     "output_type": "stream",
     "text": [
      "Pre pop:\n",
      "a [1, 2, 3, 4, 5]\n",
      "b [1, 2, 3, 4, 5]\n",
      "Post pop:\n",
      "a [1, 2, 3, 4]\n",
      "b [1, 2, 3, 4]\n"
     ]
    }
   ],
   "source": [
    "#Ereditarietà delle liste\n",
    "\n",
    "a = [1, 2, 3, 4, 5]\n",
    "b = a\n",
    "\n",
    "print(\"Pre pop:\")\n",
    "print(\"a\", a)\n",
    "print(\"b\", b)\n",
    "\n",
    "b.pop()\n",
    "\n",
    "print(\"Post pop:\")\n",
    "print(\"a\", a)\n",
    "print(\"b\", b)"
   ]
  },
  {
   "cell_type": "code",
   "execution_count": 0,
   "metadata": {
    "application/vnd.databricks.v1+cell": {
     "cellMetadata": {
      "byteLimit": 2048000,
      "rowLimit": 10000
     },
     "inputWidgets": {},
     "nuid": "6aac048b-94ea-4b51-85be-4c931a5ed70b",
     "showTitle": false,
     "title": ""
    }
   },
   "outputs": [
    {
     "name": "stdout",
     "output_type": "stream",
     "text": [
      "{'Key1': 1, 'Key2': 'Ciao', 'Key3': False, 'Key4': 'Ciao'}\n",
      "Ciao\n",
      "dict_keys(['Key1', 'Key2', 'Key3', 'Key4'])\n",
      "dict_values([1, 'Ciao', False, 'Ciao'])\n",
      "dict_items([('Key1', 1), ('Key2', 'Ciao'), ('Key3', False), ('Key4', 'Ciao')])\n"
     ]
    }
   ],
   "source": [
    "d = {\"Key1\": 1, \"Key2\": \"Ciao\", \"Key3\": False, \"Key4\": \"Ciao\"}\n",
    "\n",
    "print(d)\n",
    "print(d[\"Key2\"])\n",
    "\n",
    "print(d.keys())\n",
    "print(d.values())\n",
    "print(d.items())"
   ]
  },
  {
   "cell_type": "code",
   "execution_count": 0,
   "metadata": {
    "application/vnd.databricks.v1+cell": {
     "cellMetadata": {
      "byteLimit": 2048000,
      "rowLimit": 10000
     },
     "inputWidgets": {},
     "nuid": "033d6d19-7f70-4748-8e1b-6ba8d79489c5",
     "showTitle": false,
     "title": ""
    }
   },
   "outputs": [
    {
     "name": "stdout",
     "output_type": "stream",
     "text": [
      "Esempio di condizionale in Python:\n",
      "a è maggiore di b\n"
     ]
    }
   ],
   "source": [
    "#Condizionale\n",
    "\n",
    "print(\"Esempio di condizionale in Python:\")\n",
    "\n",
    "a = 100\n",
    "b = 10\n",
    "\n",
    "if a > b:\n",
    "    print(\"a è maggiore di b\")\n",
    "elif a == b:\n",
    "    print(\"a è uguale a b\")\n",
    "elif a < b:\n",
    "    print(\"a è minore di b\")"
   ]
  },
  {
   "cell_type": "code",
   "execution_count": 0,
   "metadata": {
    "application/vnd.databricks.v1+cell": {
     "cellMetadata": {
      "byteLimit": 2048000,
      "rowLimit": 10000
     },
     "inputWidgets": {},
     "nuid": "9b611a3f-baea-487f-87ee-6561c04fb03f",
     "showTitle": false,
     "title": ""
    }
   },
   "outputs": [
    {
     "name": "stdout",
     "output_type": "stream",
     "text": [
      "Noon sono uguali\n"
     ]
    }
   ],
   "source": [
    "a = 'A'\n",
    "b = 'B'\n",
    "\n",
    "if a == b:\n",
    "    print(\"Sono uguali\")\n",
    "else:\n",
    "    print(\"Noon sono uguali\")"
   ]
  },
  {
   "cell_type": "code",
   "execution_count": 0,
   "metadata": {
    "application/vnd.databricks.v1+cell": {
     "cellMetadata": {
      "byteLimit": 2048000,
      "rowLimit": 10000
     },
     "inputWidgets": {},
     "nuid": "766e5624-f005-460c-ae5d-fbaa1fbaa5ae",
     "showTitle": false,
     "title": ""
    }
   },
   "outputs": [
    {
     "name": "stdout",
     "output_type": "stream",
     "text": [
      "0\n",
      "1\n",
      "2\n",
      "3\n",
      "4\n",
      "5\n",
      "6\n",
      "7\n",
      "8\n",
      "9\n"
     ]
    }
   ],
   "source": [
    "#Loop (While)\n",
    "\n",
    "i = 0\n",
    "\n",
    "while i < 10:\n",
    "    print(i)\n",
    "    i = i + 1 "
   ]
  },
  {
   "cell_type": "code",
   "execution_count": 0,
   "metadata": {
    "application/vnd.databricks.v1+cell": {
     "cellMetadata": {
      "byteLimit": 2048000,
      "rowLimit": 10000
     },
     "inputWidgets": {},
     "nuid": "94d72d11-dce1-425f-8cf5-1383b84afa6d",
     "showTitle": false,
     "title": ""
    }
   },
   "outputs": [
    {
     "name": "stdout",
     "output_type": "stream",
     "text": [
      "0\n",
      "1\n",
      "2\n",
      "3\n",
      "4\n",
      "5\n"
     ]
    }
   ],
   "source": [
    "i = 0\n",
    "\n",
    "while i < 10:\n",
    "    print(i)\n",
    "    if i == 5:\n",
    "        break;\n",
    "    i = i + 1"
   ]
  },
  {
   "cell_type": "code",
   "execution_count": 0,
   "metadata": {
    "application/vnd.databricks.v1+cell": {
     "cellMetadata": {
      "byteLimit": 2048000,
      "rowLimit": 10000
     },
     "inputWidgets": {},
     "nuid": "4a697003-f703-472b-bead-d6d1b75b4869",
     "showTitle": false,
     "title": ""
    }
   },
   "outputs": [
    {
     "name": "stdout",
     "output_type": "stream",
     "text": [
      "0\n",
      "1\n",
      "2\n",
      "3\n",
      "4\n",
      "5\n",
      "6\n",
      "7\n",
      "8\n",
      "9\n",
      "\n",
      "1\n",
      "2\n",
      "3\n",
      "4\n",
      "5\n",
      "Pippo\n",
      "True\n"
     ]
    }
   ],
   "source": [
    "#Loop (For)\n",
    "\n",
    "for i in range(0, 10):\n",
    "    print(i)\n",
    "\n",
    "print()\n",
    "\n",
    "l = [1, 2, 3, 4, 5, \"Pippo\", True]\n",
    "\n",
    "for i in l:\n",
    "    print(i)"
   ]
  },
  {
   "cell_type": "code",
   "execution_count": 0,
   "metadata": {
    "application/vnd.databricks.v1+cell": {
     "cellMetadata": {
      "byteLimit": 2048000,
      "rowLimit": 10000
     },
     "inputWidgets": {},
     "nuid": "e4a26726-6fa5-4952-975c-974e6e824727",
     "showTitle": false,
     "title": ""
    }
   },
   "outputs": [
    {
     "name": "stdout",
     "output_type": "stream",
     "text": [
      "A 1\n",
      "B 2\n",
      "C 3\n"
     ]
    }
   ],
   "source": [
    "# Zip\n",
    "\n",
    "l1 = [\"A\", \"B\", \"C\"]\n",
    "l2 = [1, 2, 3]\n",
    "\n",
    "for i, j in zip(l1, l2):\n",
    "    print(i, j)"
   ]
  },
  {
   "cell_type": "code",
   "execution_count": 0,
   "metadata": {
    "application/vnd.databricks.v1+cell": {
     "cellMetadata": {
      "byteLimit": 2048000,
      "rowLimit": 10000
     },
     "inputWidgets": {},
     "nuid": "59784a35-53cc-4e69-b98c-7bb3ac5604a8",
     "showTitle": false,
     "title": ""
    }
   },
   "outputs": [
    {
     "name": "stdout",
     "output_type": "stream",
     "text": [
      "Ciao!\n",
      "\n",
      "Ciao!\n",
      "\n",
      "Ciao Paolo\n"
     ]
    }
   ],
   "source": [
    "#Funzioni\n",
    "\n",
    "def saluto():\n",
    "    print('Ciao!')\n",
    "\n",
    "saluto()\n",
    "\n",
    "print()\n",
    "\n",
    "def saluto():\n",
    "    print(\"Ciao!\")\n",
    "\n",
    "type(saluto())\n",
    "\n",
    "print()\n",
    "\n",
    "def saluto(nome):\n",
    "    print(\"Ciao \" + nome)\n",
    "\n",
    "saluto(\"Paolo\")"
   ]
  },
  {
   "cell_type": "code",
   "execution_count": 0,
   "metadata": {
    "application/vnd.databricks.v1+cell": {
     "cellMetadata": {
      "byteLimit": 2048000,
      "rowLimit": 10000
     },
     "inputWidgets": {},
     "nuid": "7805742e-d24a-4469-8e9a-e787016b3576",
     "showTitle": false,
     "title": ""
    }
   },
   "outputs": [
    {
     "name": "stdout",
     "output_type": "stream",
     "text": [
      "Out[75]: 50.0"
     ]
    }
   ],
   "source": [
    "def trasforma_celsius_in_fahrenheit(celsius):\n",
    "    fahrenheit = (celsius * 1.8) + 32\n",
    "    return fahrenheit\n",
    "\n",
    "trasforma_celsius_in_fahrenheit(10)"
   ]
  },
  {
   "cell_type": "code",
   "execution_count": 0,
   "metadata": {
    "application/vnd.databricks.v1+cell": {
     "cellMetadata": {
      "byteLimit": 2048000,
      "rowLimit": 10000
     },
     "inputWidgets": {},
     "nuid": "51615264-5db7-41d4-b72d-7c96c45cf1f7",
     "showTitle": false,
     "title": ""
    }
   },
   "outputs": [
    {
     "name": "stdout",
     "output_type": "stream",
     "text": [
      "A\n",
      "B\n",
      "S\n",
      "---\n",
      "1\n",
      "2\n",
      "3\n",
      "34\n",
      "True\n",
      "A\n"
     ]
    }
   ],
   "source": [
    "def leggi_array(l):\n",
    "    for i in l:\n",
    "        print(i)\n",
    "\n",
    "def leggi_array_2(*l):\n",
    "    for i in l:\n",
    "        print(i)\n",
    "\n",
    "leggi_array(\"ABS\")\n",
    "print('---')\n",
    "leggi_array_2(1, 2, 3, 34, True, \"A\")"
   ]
  },
  {
   "cell_type": "code",
   "execution_count": 0,
   "metadata": {
    "application/vnd.databricks.v1+cell": {
     "cellMetadata": {
      "byteLimit": 2048000,
      "rowLimit": 10000
     },
     "inputWidgets": {},
     "nuid": "aefbb7d5-511e-463a-8bb6-7443f565ec6d",
     "showTitle": false,
     "title": ""
    }
   },
   "outputs": [
    {
     "name": "stdout",
     "output_type": "stream",
     "text": [
      "Numero parole:  4\n",
      "\n",
      "\n",
      "Ciao\n",
      "Giacomo\n",
      "de\n",
      "Gennaro\n"
     ]
    }
   ],
   "source": [
    "stringa = \"Ciao Giacomo de Gennaro\"\n",
    "numero_parole = len(stringa.split())\n",
    "print(\"Numero parole: \", numero_parole)\n",
    "\n",
    "print(\"\\n\")\n",
    "\n",
    "for i in stringa.split(\" \"):\n",
    "    print(i)"
   ]
  },
  {
   "cell_type": "code",
   "execution_count": 0,
   "metadata": {
    "application/vnd.databricks.v1+cell": {
     "cellMetadata": {
      "byteLimit": 2048000,
      "rowLimit": 10000
     },
     "inputWidgets": {},
     "nuid": "c98a89da-18de-4a92-9680-f8863d7678d6",
     "showTitle": false,
     "title": ""
    }
   },
   "outputs": [
    {
     "name": "stdout",
     "output_type": "stream",
     "text": [
      "Fido\n",
      "Bau dice Fido\n",
      "Bye Fido\n"
     ]
    }
   ],
   "source": [
    "# Creiamo un costruttore dell'oggetto che verrà lanciato durante l'inizializzazione\n",
    "class Cane:\n",
    "    def __init__(self, nome, eta, tipologia):\n",
    "        self.nome = nome\n",
    "        self.eta = eta\n",
    "        self.tipologia = tipologia\n",
    "    def parla(self):\n",
    "        print('Bau dice ' + self.nome)\n",
    "    def __del__(self):\n",
    "        print('Bye '+self.nome)\n",
    "\n",
    "cane1 = Cane('Fido', '2', 'Alano')\n",
    "cane2 = Cane('Rex', '5', 'Pastore tedesco')\n",
    "\n",
    "print(cane1.nome)\n",
    "cane1.parla()\n",
    "del cane1"
   ]
  },
  {
   "cell_type": "code",
   "execution_count": 0,
   "metadata": {
    "application/vnd.databricks.v1+cell": {
     "cellMetadata": {
      "byteLimit": 2048000,
      "rowLimit": 10000
     },
     "inputWidgets": {},
     "nuid": "880f9b05-b7b3-4f6f-8b4a-28c791ec798d",
     "showTitle": false,
     "title": ""
    }
   },
   "outputs": [
    {
     "name": "stdout",
     "output_type": "stream",
     "text": [
      "1\n",
      "2\n",
      "3\n",
      "True\n"
     ]
    }
   ],
   "source": [
    "#Iteratore\n",
    "\n",
    "l = [1, 2, 3, True]\n",
    "\n",
    "for ele in l:\n",
    "    print(ele)\n",
    "\n",
    "iteratore = iter(l)"
   ]
  },
  {
   "cell_type": "code",
   "execution_count": 0,
   "metadata": {
    "application/vnd.databricks.v1+cell": {
     "cellMetadata": {
      "byteLimit": 2048000,
      "rowLimit": 10000
     },
     "inputWidgets": {},
     "nuid": "8e4242eb-af4e-4758-8d88-b3d1f889beb0",
     "showTitle": false,
     "title": ""
    }
   },
   "outputs": [
    {
     "name": "stdout",
     "output_type": "stream",
     "text": [
      "Out[80]: ['__add__',\n",
      " '__class__',\n",
      " '__contains__',\n",
      " '__delattr__',\n",
      " '__dir__',\n",
      " '__doc__',\n",
      " '__eq__',\n",
      " '__format__',\n",
      " '__ge__',\n",
      " '__getattribute__',\n",
      " '__getitem__',\n",
      " '__getnewargs__',\n",
      " '__gt__',\n",
      " '__hash__',\n",
      " '__init__',\n",
      " '__init_subclass__',\n",
      " '__iter__',\n",
      " '__le__',\n",
      " '__len__',\n",
      " '__lt__',\n",
      " '__mod__',\n",
      " '__mul__',\n",
      " '__ne__',\n",
      " '__new__',\n",
      " '__reduce__',\n",
      " '__reduce_ex__',\n",
      " '__repr__',\n",
      " '__rmod__',\n",
      " '__rmul__',\n",
      " '__setattr__',\n",
      " '__sizeof__',\n",
      " '__str__',\n",
      " '__subclasshook__',\n",
      " 'capitalize',\n",
      " 'casefold',\n",
      " 'center',\n",
      " 'count',\n",
      " 'encode',\n",
      " 'endswith',\n",
      " 'expandtabs',\n",
      " 'find',\n",
      " 'format',\n",
      " 'format_map',\n",
      " 'index',\n",
      " 'isalnum',\n",
      " 'isalpha',\n",
      " 'isascii',\n",
      " 'isdecimal',\n",
      " 'isdigit',\n",
      " 'isidentifier',\n",
      " 'islower',\n",
      " 'isnumeric',\n",
      " 'isprintable',\n",
      " 'isspace',\n",
      " 'istitle',\n",
      " 'isupper',\n",
      " 'join',\n",
      " 'ljust',\n",
      " 'lower',\n",
      " 'lstrip',\n",
      " 'maketrans',\n",
      " 'partition',\n",
      " 'removeprefix',\n",
      " 'removesuffix',\n",
      " 'replace',\n",
      " 'rfind',\n",
      " 'rindex',\n",
      " 'rjust',\n",
      " 'rpartition',\n",
      " 'rsplit',\n",
      " 'rstrip',\n",
      " 'split',\n",
      " 'splitlines',\n",
      " 'startswith',\n",
      " 'strip',\n",
      " 'swapcase',\n",
      " 'title',\n",
      " 'translate',\n",
      " 'upper',\n",
      " 'zfill']"
     ]
    }
   ],
   "source": [
    "a = \"Testo\"\n",
    "dir(a)"
   ]
  },
  {
   "cell_type": "code",
   "execution_count": 0,
   "metadata": {
    "application/vnd.databricks.v1+cell": {
     "cellMetadata": {
      "byteLimit": 2048000,
      "rowLimit": 10000
     },
     "inputWidgets": {},
     "nuid": "99011d64-2bc5-4af2-9ab7-c82f19d8700d",
     "showTitle": false,
     "title": ""
    }
   },
   "outputs": [
    {
     "name": "stdout",
     "output_type": "stream",
     "text": [
      "['/databricks/python_shell/scripts', '/local_disk0/spark-b03d4451-d3cf-4650-af23-878896ce34ca/userFiles-deb4ce69-b830-48e5-9526-345302f27523', '/databricks/spark/python', '/databricks/spark/python/lib/py4j-0.10.9.5-src.zip', '/databricks/jars/spark--driver--driver-spark_3.3_2.12_deploy.jar', '/WSFS_NOTEBOOK_DIR', '/databricks/python_shell', '/usr/lib/python39.zip', '/usr/lib/python3.9', '/usr/lib/python3.9/lib-dynload', '', '/local_disk0/.ephemeral_nfs/envs/pythonEnv-cd5e2462-6aa3-410a-86ce-f7938d050f53/lib/python3.9/site-packages', '/local_disk0/.ephemeral_nfs/cluster_libraries/python/lib/python3.9/site-packages', '/databricks/python/lib/python3.9/site-packages', '/usr/local/lib/python3.9/dist-packages', '/usr/lib/python3/dist-packages']\n"
     ]
    }
   ],
   "source": [
    "# Modulo sys\n",
    "import sys\n",
    "\n",
    "print(sys.path)"
   ]
  },
  {
   "cell_type": "code",
   "execution_count": 0,
   "metadata": {
    "application/vnd.databricks.v1+cell": {
     "cellMetadata": {
      "byteLimit": 2048000,
      "rowLimit": 10000
     },
     "inputWidgets": {},
     "nuid": "ada43f5b-27b3-458c-bfce-b02757be0b34",
     "showTitle": false,
     "title": ""
    }
   },
   "outputs": [
    {
     "name": "stdout",
     "output_type": "stream",
     "text": [
      "3.9.5\n"
     ]
    }
   ],
   "source": [
    "# Modulo platform\n",
    "import platform\n",
    "\n",
    "print(platform.python_version())"
   ]
  },
  {
   "cell_type": "code",
   "execution_count": 0,
   "metadata": {
    "application/vnd.databricks.v1+cell": {
     "cellMetadata": {
      "byteLimit": 2048000,
      "rowLimit": 10000
     },
     "inputWidgets": {},
     "nuid": "4cd892a8-d07d-44d7-a067-9d963fb57303",
     "showTitle": false,
     "title": ""
    }
   },
   "outputs": [
    {
     "name": "stdout",
     "output_type": "stream",
     "text": [
      "Expoential: 25184.902831930427\n",
      "Ceiling: 11\n",
      "Floor: 10\n",
      "SQRT: 3.1833944147717546\n"
     ]
    }
   ],
   "source": [
    "# Modulo math\n",
    "\n",
    "import math\n",
    "a = 10.134\n",
    "\n",
    "print(\"Expoential:\", math.exp(a))\n",
    "print(\"Ceiling:\", math.ceil(a))\n",
    "print(\"Floor:\", math.floor(a))\n",
    "print(\"SQRT:\", math.sqrt(a))"
   ]
  },
  {
   "cell_type": "code",
   "execution_count": 0,
   "metadata": {
    "application/vnd.databricks.v1+cell": {
     "cellMetadata": {
      "byteLimit": 2048000,
      "rowLimit": 10000
     },
     "inputWidgets": {},
     "nuid": "c22eb4e7-62a4-46ac-8838-ad4d58069287",
     "showTitle": false,
     "title": ""
    }
   },
   "outputs": [
    {
     "name": "stdout",
     "output_type": "stream",
     "text": [
      "0.9847747572358078\n",
      "\n",
      "sasso\n",
      "carta\n",
      "sasso\n",
      "sasso\n"
     ]
    }
   ],
   "source": [
    "# Modulo random\n",
    "\n",
    "import random\n",
    "\n",
    "print(random.random())\n",
    "\n",
    "print()\n",
    "\n",
    "l = [\"carta\", \"forbice\", \"sasso\"]\n",
    "\n",
    "print(random.choice(l))\n",
    "print(random.choice(l))\n",
    "print(random.choice(l))\n",
    "print(random.choice(l))"
   ]
  },
  {
   "cell_type": "code",
   "execution_count": 0,
   "metadata": {
    "application/vnd.databricks.v1+cell": {
     "cellMetadata": {
      "byteLimit": 2048000,
      "rowLimit": 10000
     },
     "inputWidgets": {},
     "nuid": "58b7afc9-2f12-4dc2-a20b-5035b6274198",
     "showTitle": false,
     "title": ""
    }
   },
   "outputs": [
    {
     "name": "stdout",
     "output_type": "stream",
     "text": [
      "sasso\n"
     ]
    }
   ],
   "source": [
    "def dammi_elemento():\n",
    "    l = [\"carta\", \"forbice\", \"sasso\"]\n",
    "    return random.choice(l)\n",
    "\n",
    "print(dammi_elemento())"
   ]
  },
  {
   "cell_type": "code",
   "execution_count": 0,
   "metadata": {
    "application/vnd.databricks.v1+cell": {
     "cellMetadata": {
      "byteLimit": 2048000,
      "rowLimit": 10000
     },
     "inputWidgets": {},
     "nuid": "81cc7d4c-3cec-4508-983f-fbc09ed34241",
     "showTitle": false,
     "title": ""
    }
   },
   "outputs": [
    {
     "name": "stdout",
     "output_type": "stream",
     "text": [
      "6\n",
      "8\n",
      "10\n",
      "12\n"
     ]
    }
   ],
   "source": [
    "l1 = [1, 2, 3, 4]\n",
    "l2 = [5, 6, 7, 8]\n",
    "\n",
    "for i, j in zip(l1, l2):\n",
    "    print(i + j)"
   ]
  },
  {
   "cell_type": "code",
   "execution_count": 0,
   "metadata": {
    "application/vnd.databricks.v1+cell": {
     "cellMetadata": {
      "byteLimit": 2048000,
      "rowLimit": 10000
     },
     "inputWidgets": {},
     "nuid": "10e6d13f-df56-4684-bdd0-8c4683575a4c",
     "showTitle": false,
     "title": ""
    }
   },
   "outputs": [
    {
     "name": "stdout",
     "output_type": "stream",
     "text": [
      "[-0.28442664 -1.0531551   0.02939855 -1.94927318  0.46161798 -0.25677437\n",
      " -0.43303854 -0.65176578  0.29648479  1.10062382]\n"
     ]
    }
   ],
   "source": [
    "# Modulo numpy\n",
    "\n",
    "import numpy as np\n",
    "\n",
    "x = np.random.normal(0, 1, 10)\n",
    "print(x)"
   ]
  },
  {
   "cell_type": "code",
   "execution_count": 0,
   "metadata": {
    "application/vnd.databricks.v1+cell": {
     "cellMetadata": {
      "byteLimit": 2048000,
      "rowLimit": 10000
     },
     "inputWidgets": {},
     "nuid": "6e83b924-9d75-404b-8424-a94c9da8d986",
     "showTitle": false,
     "title": ""
    }
   },
   "outputs": [
    {
     "data": {
      "image/png": "[encoded data removed]"
     },
     "metadata": {
      "application/vnd.databricks.v1+output": {
       "addedWidgets": {},
       "arguments": {},
       "data": "data:image/png;base64,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\n",
       "datasetInfos": [],
       "metadata": {},
       "removedWidgets": [],
       "type": "image"
      }
     },
     "output_type": "display_data"
    }
   ],
   "source": [
    "import numpy as np\n",
    "\n",
    "x = np.random.normal(0, 1, 10)\n",
    "y = np.random.normal(0, 1, 10)\n",
    "\n",
    "plt.scatter(x, y, marker = \"+\")\n",
    "plt.show()"
   ]
  },
  {
   "cell_type": "code",
   "execution_count": 0,
   "metadata": {
    "application/vnd.databricks.v1+cell": {
     "cellMetadata": {
      "byteLimit": 2048000,
      "rowLimit": 10000
     },
     "inputWidgets": {},
     "nuid": "4f08f347-f508-4f60-b722-8af975d9d190",
     "showTitle": false,
     "title": ""
    }
   },
   "outputs": [
    {
     "name": "stdout",
     "output_type": "stream",
     "text": [
      "[0 1 2 3 4 5 6 7 8 9]\n",
      "[ 0  2  4  6  8 10 12 14 16 18]\n"
     ]
    },
    {
     "data": {
      "image/png": "[encoded data removed]"
     },
     "metadata": {
      "application/vnd.databricks.v1+output": {
       "addedWidgets": {},
       "arguments": {},
       "data": "data:image/png;base64,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\n",
       "datasetInfos": [],
       "metadata": {},
       "removedWidgets": [],
       "type": "image"
      }
     },
     "output_type": "display_data"
    }
   ],
   "source": [
    "# Retta y = 2*x dove x è un array da 0 a 10\n",
    "x = np.arange(0, 10)\n",
    "\n",
    "print(x)\n",
    "y = 2*x\n",
    "\n",
    "print(y)\n",
    "plt.plot(x, y)\n",
    "plt.show()\n"
   ]
  },
  {
   "cell_type": "code",
   "execution_count": 0,
   "metadata": {
    "application/vnd.databricks.v1+cell": {
     "cellMetadata": {
      "byteLimit": 2048000,
      "rowLimit": 10000
     },
     "inputWidgets": {},
     "nuid": "dac0b361-461e-4c66-97d7-492629a19a3e",
     "showTitle": false,
     "title": ""
    }
   },
   "outputs": [
    {
     "name": "stdout",
     "output_type": "stream",
     "text": [
      "[-9 -8 -7 -6 -5 -4 -3 -2 -1  0  1  2  3  4  5  6  7  8]\n",
      "[-2115 -1480  -987  -618  -355  -180   -75   -22    -3     0     5    30\n",
      "    93   212   405   690  1085  1608]\n"
     ]
    },
    {
     "data": {
      "image/png": "[encoded data removed]"
     },
     "metadata": {
      "application/vnd.databricks.v1+output": {
       "addedWidgets": {},
       "arguments": {},
       "data": "data:image/png;base64,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\n",
       "datasetInfos": [],
       "metadata": {},
       "removedWidgets": [],
       "type": "image"
      }
     },
     "output_type": "display_data"
    }
   ],
   "source": [
    "plt.title('Il mio primo grafico')\n",
    "plt\n",
    "x = np.arange(-9, 9)\n",
    "print(x)\n",
    "y = 3*x**3 + x**2 + x  # Doppio asterisco è l'elevazione\n",
    "plt.scatter(x, y, c = 'black')\n",
    "print(y)\n",
    "plt.legend(['y = 3 x^3 + x^2 + x'])\n",
    "plt.plot(x, y, color = 'red')\n",
    "plt.show()"
   ]
  },
  {
   "cell_type": "code",
   "execution_count": 0,
   "metadata": {
    "application/vnd.databricks.v1+cell": {
     "cellMetadata": {
      "byteLimit": 2048000,
      "rowLimit": 10000
     },
     "inputWidgets": {},
     "nuid": "042f23f9-261d-4c0f-abc1-dc6b57eed3b5",
     "showTitle": false,
     "title": ""
    }
   },
   "outputs": [
    {
     "data": {
      "image/png": "[encoded data removed]"
     },
     "metadata": {
      "application/vnd.databricks.v1+output": {
       "addedWidgets": {},
       "arguments": {},
       "data": "data:image/png;base64,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\n",
       "datasetInfos": [],
       "metadata": {},
       "removedWidgets": [],
       "type": "image"
      }
     },
     "output_type": "display_data"
    }
   ],
   "source": [
    "# Modulo pyplot\n",
    "\n",
    "import matplotlib.pyplot as plt\n",
    "\n",
    "\n",
    "pizza = ['Margherita', 'Diavola', 'Capricciosa', 'Marinaria','4 stagioni','Niente']\n",
    "conto = [1,3,5,8,2,3]\n",
    "\n",
    "plt.pie(conto,labels=pizza)\n",
    "plt.show()\n",
    "\n",
    "#plt.bar(pizza,conto)\n",
    "#plt.show()"
   ]
  },
  {
   "cell_type": "code",
   "execution_count": 0,
   "metadata": {
    "application/vnd.databricks.v1+cell": {
     "cellMetadata": {
      "byteLimit": 2048000,
      "rowLimit": 10000
     },
     "inputWidgets": {},
     "nuid": "07f71686-949e-40d7-8849-8430cffa626d",
     "showTitle": false,
     "title": ""
    }
   },
   "outputs": [
    {
     "data": {
      "image/png": "[encoded data removed]"
     },
     "metadata": {
      "application/vnd.databricks.v1+output": {
       "addedWidgets": {},
       "arguments": {},
       "data": "data:image/png;base64,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\n",
       "datasetInfos": [],
       "metadata": {},
       "removedWidgets": [],
       "type": "image"
      }
     },
     "output_type": "display_data"
    }
   ],
   "source": [
    "import matplotlib.pyplot as plt\n",
    "\n",
    "voti = ['voto: 3', 'voto: 5', 'voto: 8', 'voto: 9', 'voto: 10']\n",
    "numeroVoti = [2, 2, 2, 2, 1]\n",
    "\n",
    "plt.pie(numeroVoti, labels = voti, wedgeprops = dict(width = 1.))\n",
    "plt.title(\"Grafico a torta\")\n",
    "plt.show()"
   ]
  },
  {
   "cell_type": "code",
   "execution_count": 6,
   "metadata": {
    "application/vnd.databricks.v1+cell": {
     "cellMetadata": {
      "byteLimit": 2048000,
      "rowLimit": 10000
     },
     "inputWidgets": {},
     "nuid": "1567ac54-9289-45c7-8d05-5b6b5918b889",
     "showTitle": false,
     "title": ""
    }
   },
   "outputs": [
    {
     "data": {
      "text/html": [
       "<div>\n",
       "<style scoped>\n",
       "    .dataframe tbody tr th:only-of-type {\n",
       "        vertical-align: middle;\n",
       "    }\n",
       "\n",
       "    .dataframe tbody tr th {\n",
       "        vertical-align: top;\n",
       "    }\n",
       "\n",
       "    .dataframe thead th {\n",
       "        text-align: right;\n",
       "    }\n",
       "</style>\n",
       "<table border=\"1\" class=\"dataframe\">\n",
       "  <thead>\n",
       "    <tr style=\"text-align: right;\">\n",
       "      <th></th>\n",
       "      <th>nome_studente</th>\n",
       "      <th>cognome_studente</th>\n",
       "      <th>esame_passato</th>\n",
       "      <th>voto</th>\n",
       "      <th>ore_studio</th>\n",
       "    </tr>\n",
       "  </thead>\n",
       "  <tbody>\n",
       "    <tr>\n",
       "      <th>0</th>\n",
       "      <td>nome_1</td>\n",
       "      <td>cognome_1</td>\n",
       "      <td>y</td>\n",
       "      <td>8.0</td>\n",
       "      <td>6.0</td>\n",
       "    </tr>\n",
       "    <tr>\n",
       "      <th>1</th>\n",
       "      <td>nome_2</td>\n",
       "      <td>cognome_2</td>\n",
       "      <td>n</td>\n",
       "      <td>5.0</td>\n",
       "      <td>2.0</td>\n",
       "    </tr>\n",
       "    <tr>\n",
       "      <th>2</th>\n",
       "      <td>nome_3</td>\n",
       "      <td>cognome_3</td>\n",
       "      <td>y</td>\n",
       "      <td>9.0</td>\n",
       "      <td>6.0</td>\n",
       "    </tr>\n",
       "    <tr>\n",
       "      <th>3</th>\n",
       "      <td>nome_4</td>\n",
       "      <td>cognome_4</td>\n",
       "      <td>y</td>\n",
       "      <td>10.0</td>\n",
       "      <td>7.0</td>\n",
       "    </tr>\n",
       "    <tr>\n",
       "      <th>4</th>\n",
       "      <td>nome_5</td>\n",
       "      <td>cognome_5</td>\n",
       "      <td>n</td>\n",
       "      <td>3.0</td>\n",
       "      <td>1.0</td>\n",
       "    </tr>\n",
       "    <tr>\n",
       "      <th>5</th>\n",
       "      <td>nome_6</td>\n",
       "      <td>cognome_6</td>\n",
       "      <td>y</td>\n",
       "      <td>8.0</td>\n",
       "      <td>6.0</td>\n",
       "    </tr>\n",
       "    <tr>\n",
       "      <th>6</th>\n",
       "      <td>nome_7</td>\n",
       "      <td>cognome_7</td>\n",
       "      <td>n</td>\n",
       "      <td>5.0</td>\n",
       "      <td>2.0</td>\n",
       "    </tr>\n",
       "    <tr>\n",
       "      <th>7</th>\n",
       "      <td>nome_8</td>\n",
       "      <td>cognome_8</td>\n",
       "      <td>y</td>\n",
       "      <td>9.0</td>\n",
       "      <td>6.0</td>\n",
       "    </tr>\n",
       "    <tr>\n",
       "      <th>8</th>\n",
       "      <td>nome_9</td>\n",
       "      <td>cognome_9</td>\n",
       "      <td>NaN</td>\n",
       "      <td>NaN</td>\n",
       "      <td>NaN</td>\n",
       "    </tr>\n",
       "    <tr>\n",
       "      <th>9</th>\n",
       "      <td>nome_10</td>\n",
       "      <td>cognome_10</td>\n",
       "      <td>n</td>\n",
       "      <td>3.0</td>\n",
       "      <td>1.0</td>\n",
       "    </tr>\n",
       "  </tbody>\n",
       "</table>\n",
       "</div>"
      ],
      "text/plain": [
       "  nome_studente cognome_studente esame_passato  voto  ore_studio\n",
       "0        nome_1        cognome_1             y   8.0         6.0\n",
       "1        nome_2        cognome_2             n   5.0         2.0\n",
       "2        nome_3        cognome_3             y   9.0         6.0\n",
       "3        nome_4        cognome_4             y  10.0         7.0\n",
       "4        nome_5        cognome_5             n   3.0         1.0\n",
       "5        nome_6        cognome_6             y   8.0         6.0\n",
       "6        nome_7        cognome_7             n   5.0         2.0\n",
       "7        nome_8        cognome_8             y   9.0         6.0\n",
       "8        nome_9        cognome_9           NaN   NaN         NaN\n",
       "9       nome_10       cognome_10             n   3.0         1.0"
      ]
     },
     "execution_count": 6,
     "metadata": {},
     "output_type": "execute_result"
    }
   ],
   "source": [
    "# Modulo Pandas\n",
    "\n",
    "import pandas as pd\n",
    "\n",
    "df = pd.read_csv('voti.csv', sep = ';')\n",
    "df.head(100)"
   ]
  },
  {
   "cell_type": "code",
   "execution_count": 7,
   "metadata": {
    "application/vnd.databricks.v1+cell": {
     "cellMetadata": {
      "byteLimit": 2048000,
      "rowLimit": 10000
     },
     "inputWidgets": {},
     "nuid": "cd281d15-eb1c-4bda-952e-2ffe681a3fe8",
     "showTitle": false,
     "title": ""
    }
   },
   "outputs": [
    {
     "name": "stdout",
     "output_type": "stream",
     "text": [
      "<class 'pandas.core.frame.DataFrame'>\n"
     ]
    }
   ],
   "source": [
    "print(type(df))"
   ]
  },
  {
   "cell_type": "code",
   "execution_count": 8,
   "metadata": {
    "application/vnd.databricks.v1+cell": {
     "cellMetadata": {
      "byteLimit": 2048000,
      "rowLimit": 10000
     },
     "inputWidgets": {},
     "nuid": "37ece821-ba86-4abf-b280-2012ebcc54be",
     "showTitle": false,
     "title": ""
    }
   },
   "outputs": [
    {
     "name": "stdout",
     "output_type": "stream",
     "text": [
      "* La colonna 0  ha nome  nome_studente\n",
      "* La colonna 1  ha nome  cognome_studente\n",
      "* La colonna 2  ha nome  esame_passato\n",
      "* La colonna 3  ha nome  voto\n",
      "* La colonna 4  ha nome  ore_studio\n"
     ]
    }
   ],
   "source": [
    "for id_colonna, colonna in enumerate(df.columns):\n",
    "    print('* La colonna', id_colonna, ' ha nome ', colonna)"
   ]
  },
  {
   "cell_type": "code",
   "execution_count": 9,
   "metadata": {},
   "outputs": [
    {
     "data": {
      "text/plain": [
       "0     cognome_1\n",
       "1     cognome_2\n",
       "2     cognome_3\n",
       "3     cognome_4\n",
       "4     cognome_5\n",
       "5     cognome_6\n",
       "6     cognome_7\n",
       "7     cognome_8\n",
       "8     cognome_9\n",
       "9    cognome_10\n",
       "Name: cognome_studente, dtype: object"
      ]
     },
     "execution_count": 9,
     "metadata": {},
     "output_type": "execute_result"
    }
   ],
   "source": [
    "df[\"cognome_studente\"]"
   ]
  },
  {
   "cell_type": "code",
   "execution_count": 12,
   "metadata": {},
   "outputs": [
    {
     "data": {
      "text/html": [
       "<div>\n",
       "<style scoped>\n",
       "    .dataframe tbody tr th:only-of-type {\n",
       "        vertical-align: middle;\n",
       "    }\n",
       "\n",
       "    .dataframe tbody tr th {\n",
       "        vertical-align: top;\n",
       "    }\n",
       "\n",
       "    .dataframe thead th {\n",
       "        text-align: right;\n",
       "    }\n",
       "</style>\n",
       "<table border=\"1\" class=\"dataframe\">\n",
       "  <thead>\n",
       "    <tr style=\"text-align: right;\">\n",
       "      <th></th>\n",
       "      <th>nome_studente</th>\n",
       "      <th>cognome_studente</th>\n",
       "      <th>esame_passato</th>\n",
       "      <th>voto</th>\n",
       "      <th>ore_studio</th>\n",
       "      <th>nome_cognome_studente</th>\n",
       "    </tr>\n",
       "  </thead>\n",
       "  <tbody>\n",
       "    <tr>\n",
       "      <th>0</th>\n",
       "      <td>nome_1</td>\n",
       "      <td>cognome_1</td>\n",
       "      <td>y</td>\n",
       "      <td>8.0</td>\n",
       "      <td>6.0</td>\n",
       "      <td>nome_1cognome_1</td>\n",
       "    </tr>\n",
       "    <tr>\n",
       "      <th>1</th>\n",
       "      <td>nome_2</td>\n",
       "      <td>cognome_2</td>\n",
       "      <td>n</td>\n",
       "      <td>5.0</td>\n",
       "      <td>2.0</td>\n",
       "      <td>nome_2cognome_2</td>\n",
       "    </tr>\n",
       "    <tr>\n",
       "      <th>2</th>\n",
       "      <td>nome_3</td>\n",
       "      <td>cognome_3</td>\n",
       "      <td>y</td>\n",
       "      <td>9.0</td>\n",
       "      <td>6.0</td>\n",
       "      <td>nome_3cognome_3</td>\n",
       "    </tr>\n",
       "    <tr>\n",
       "      <th>3</th>\n",
       "      <td>nome_4</td>\n",
       "      <td>cognome_4</td>\n",
       "      <td>y</td>\n",
       "      <td>10.0</td>\n",
       "      <td>7.0</td>\n",
       "      <td>nome_4cognome_4</td>\n",
       "    </tr>\n",
       "    <tr>\n",
       "      <th>4</th>\n",
       "      <td>nome_5</td>\n",
       "      <td>cognome_5</td>\n",
       "      <td>n</td>\n",
       "      <td>3.0</td>\n",
       "      <td>1.0</td>\n",
       "      <td>nome_5cognome_5</td>\n",
       "    </tr>\n",
       "    <tr>\n",
       "      <th>5</th>\n",
       "      <td>nome_6</td>\n",
       "      <td>cognome_6</td>\n",
       "      <td>y</td>\n",
       "      <td>8.0</td>\n",
       "      <td>6.0</td>\n",
       "      <td>nome_6cognome_6</td>\n",
       "    </tr>\n",
       "    <tr>\n",
       "      <th>6</th>\n",
       "      <td>nome_7</td>\n",
       "      <td>cognome_7</td>\n",
       "      <td>n</td>\n",
       "      <td>5.0</td>\n",
       "      <td>2.0</td>\n",
       "      <td>nome_7cognome_7</td>\n",
       "    </tr>\n",
       "    <tr>\n",
       "      <th>7</th>\n",
       "      <td>nome_8</td>\n",
       "      <td>cognome_8</td>\n",
       "      <td>y</td>\n",
       "      <td>9.0</td>\n",
       "      <td>6.0</td>\n",
       "      <td>nome_8cognome_8</td>\n",
       "    </tr>\n",
       "    <tr>\n",
       "      <th>8</th>\n",
       "      <td>nome_9</td>\n",
       "      <td>cognome_9</td>\n",
       "      <td>NaN</td>\n",
       "      <td>NaN</td>\n",
       "      <td>NaN</td>\n",
       "      <td>nome_9cognome_9</td>\n",
       "    </tr>\n",
       "    <tr>\n",
       "      <th>9</th>\n",
       "      <td>nome_10</td>\n",
       "      <td>cognome_10</td>\n",
       "      <td>n</td>\n",
       "      <td>3.0</td>\n",
       "      <td>1.0</td>\n",
       "      <td>nome_10cognome_10</td>\n",
       "    </tr>\n",
       "  </tbody>\n",
       "</table>\n",
       "</div>"
      ],
      "text/plain": [
       "  nome_studente cognome_studente esame_passato  voto  ore_studio  \\\n",
       "0        nome_1        cognome_1             y   8.0         6.0   \n",
       "1        nome_2        cognome_2             n   5.0         2.0   \n",
       "2        nome_3        cognome_3             y   9.0         6.0   \n",
       "3        nome_4        cognome_4             y  10.0         7.0   \n",
       "4        nome_5        cognome_5             n   3.0         1.0   \n",
       "5        nome_6        cognome_6             y   8.0         6.0   \n",
       "6        nome_7        cognome_7             n   5.0         2.0   \n",
       "7        nome_8        cognome_8             y   9.0         6.0   \n",
       "8        nome_9        cognome_9           NaN   NaN         NaN   \n",
       "9       nome_10       cognome_10             n   3.0         1.0   \n",
       "\n",
       "  nome_cognome_studente  \n",
       "0       nome_1cognome_1  \n",
       "1       nome_2cognome_2  \n",
       "2       nome_3cognome_3  \n",
       "3       nome_4cognome_4  \n",
       "4       nome_5cognome_5  \n",
       "5       nome_6cognome_6  \n",
       "6       nome_7cognome_7  \n",
       "7       nome_8cognome_8  \n",
       "8       nome_9cognome_9  \n",
       "9     nome_10cognome_10  "
      ]
     },
     "execution_count": 12,
     "metadata": {},
     "output_type": "execute_result"
    }
   ],
   "source": [
    "df[\"nome_cognome_studente\"] = df[\"nome_studente\"] + df[\"cognome_studente\"]\n",
    "\n",
    "df.head(10)"
   ]
  },
  {
   "cell_type": "code",
   "execution_count": 13,
   "metadata": {},
   "outputs": [
    {
     "name": "stdout",
     "output_type": "stream",
     "text": [
      "8.0\n",
      "5.0\n",
      "9.0\n",
      "10.0\n",
      "3.0\n",
      "8.0\n",
      "5.0\n",
      "9.0\n",
      "nan\n",
      "3.0\n"
     ]
    }
   ],
   "source": [
    "for voto in df[\"voto\"]:\n",
    "    print(voto)"
   ]
  },
  {
   "cell_type": "code",
   "execution_count": 14,
   "metadata": {},
   "outputs": [
    {
     "name": "stdout",
     "output_type": "stream",
     "text": [
      "3.0\n",
      "3.0\n"
     ]
    }
   ],
   "source": [
    "for voto in df[\"voto\"]:\n",
    "    if voto <= 3:\n",
    "        print(voto)"
   ]
  },
  {
   "cell_type": "code",
   "execution_count": 15,
   "metadata": {},
   "outputs": [
    {
     "data": {
      "text/html": [
       "<div>\n",
       "<style scoped>\n",
       "    .dataframe tbody tr th:only-of-type {\n",
       "        vertical-align: middle;\n",
       "    }\n",
       "\n",
       "    .dataframe tbody tr th {\n",
       "        vertical-align: top;\n",
       "    }\n",
       "\n",
       "    .dataframe thead th {\n",
       "        text-align: right;\n",
       "    }\n",
       "</style>\n",
       "<table border=\"1\" class=\"dataframe\">\n",
       "  <thead>\n",
       "    <tr style=\"text-align: right;\">\n",
       "      <th></th>\n",
       "      <th>nome_studente</th>\n",
       "      <th>cognome_studente</th>\n",
       "      <th>esame_passato</th>\n",
       "      <th>voto</th>\n",
       "      <th>ore_studio</th>\n",
       "      <th>nome_cognome_studente</th>\n",
       "    </tr>\n",
       "  </thead>\n",
       "  <tbody>\n",
       "    <tr>\n",
       "      <th>4</th>\n",
       "      <td>nome_5</td>\n",
       "      <td>cognome_5</td>\n",
       "      <td>n</td>\n",
       "      <td>3.0</td>\n",
       "      <td>1.0</td>\n",
       "      <td>nome_5cognome_5</td>\n",
       "    </tr>\n",
       "    <tr>\n",
       "      <th>9</th>\n",
       "      <td>nome_10</td>\n",
       "      <td>cognome_10</td>\n",
       "      <td>n</td>\n",
       "      <td>3.0</td>\n",
       "      <td>1.0</td>\n",
       "      <td>nome_10cognome_10</td>\n",
       "    </tr>\n",
       "  </tbody>\n",
       "</table>\n",
       "</div>"
      ],
      "text/plain": [
       "  nome_studente cognome_studente esame_passato  voto  ore_studio  \\\n",
       "4        nome_5        cognome_5             n   3.0         1.0   \n",
       "9       nome_10       cognome_10             n   3.0         1.0   \n",
       "\n",
       "  nome_cognome_studente  \n",
       "4       nome_5cognome_5  \n",
       "9     nome_10cognome_10  "
      ]
     },
     "execution_count": 15,
     "metadata": {},
     "output_type": "execute_result"
    }
   ],
   "source": [
    "df_voti_minori_di_3 = df[df[\"voto\"] <= 3]\n",
    "\n",
    "df_voti_minori_di_3.head()"
   ]
  },
  {
   "cell_type": "code",
   "execution_count": 16,
   "metadata": {},
   "outputs": [
    {
     "data": {
      "text/plain": [
       "2"
      ]
     },
     "execution_count": 16,
     "metadata": {},
     "output_type": "execute_result"
    }
   ],
   "source": [
    "len(df_voti_minori_di_3)"
   ]
  },
  {
   "cell_type": "code",
   "execution_count": 17,
   "metadata": {},
   "outputs": [
    {
     "data": {
      "text/html": [
       "<div>\n",
       "<style scoped>\n",
       "    .dataframe tbody tr th:only-of-type {\n",
       "        vertical-align: middle;\n",
       "    }\n",
       "\n",
       "    .dataframe tbody tr th {\n",
       "        vertical-align: top;\n",
       "    }\n",
       "\n",
       "    .dataframe thead th {\n",
       "        text-align: right;\n",
       "    }\n",
       "</style>\n",
       "<table border=\"1\" class=\"dataframe\">\n",
       "  <thead>\n",
       "    <tr style=\"text-align: right;\">\n",
       "      <th></th>\n",
       "      <th>nome_studente</th>\n",
       "      <th>cognome_studente</th>\n",
       "      <th>esame_passato</th>\n",
       "      <th>voto</th>\n",
       "      <th>ore_studio</th>\n",
       "      <th>nome_cognome_studente</th>\n",
       "    </tr>\n",
       "  </thead>\n",
       "  <tbody>\n",
       "    <tr>\n",
       "      <th>0</th>\n",
       "      <td>False</td>\n",
       "      <td>False</td>\n",
       "      <td>False</td>\n",
       "      <td>False</td>\n",
       "      <td>False</td>\n",
       "      <td>False</td>\n",
       "    </tr>\n",
       "    <tr>\n",
       "      <th>1</th>\n",
       "      <td>False</td>\n",
       "      <td>False</td>\n",
       "      <td>False</td>\n",
       "      <td>False</td>\n",
       "      <td>False</td>\n",
       "      <td>False</td>\n",
       "    </tr>\n",
       "    <tr>\n",
       "      <th>2</th>\n",
       "      <td>False</td>\n",
       "      <td>False</td>\n",
       "      <td>False</td>\n",
       "      <td>False</td>\n",
       "      <td>False</td>\n",
       "      <td>False</td>\n",
       "    </tr>\n",
       "    <tr>\n",
       "      <th>3</th>\n",
       "      <td>False</td>\n",
       "      <td>False</td>\n",
       "      <td>False</td>\n",
       "      <td>False</td>\n",
       "      <td>False</td>\n",
       "      <td>False</td>\n",
       "    </tr>\n",
       "    <tr>\n",
       "      <th>4</th>\n",
       "      <td>False</td>\n",
       "      <td>False</td>\n",
       "      <td>False</td>\n",
       "      <td>False</td>\n",
       "      <td>False</td>\n",
       "      <td>False</td>\n",
       "    </tr>\n",
       "    <tr>\n",
       "      <th>5</th>\n",
       "      <td>False</td>\n",
       "      <td>False</td>\n",
       "      <td>False</td>\n",
       "      <td>False</td>\n",
       "      <td>False</td>\n",
       "      <td>False</td>\n",
       "    </tr>\n",
       "    <tr>\n",
       "      <th>6</th>\n",
       "      <td>False</td>\n",
       "      <td>False</td>\n",
       "      <td>False</td>\n",
       "      <td>False</td>\n",
       "      <td>False</td>\n",
       "      <td>False</td>\n",
       "    </tr>\n",
       "    <tr>\n",
       "      <th>7</th>\n",
       "      <td>False</td>\n",
       "      <td>False</td>\n",
       "      <td>False</td>\n",
       "      <td>False</td>\n",
       "      <td>False</td>\n",
       "      <td>False</td>\n",
       "    </tr>\n",
       "    <tr>\n",
       "      <th>8</th>\n",
       "      <td>False</td>\n",
       "      <td>False</td>\n",
       "      <td>True</td>\n",
       "      <td>True</td>\n",
       "      <td>True</td>\n",
       "      <td>False</td>\n",
       "    </tr>\n",
       "    <tr>\n",
       "      <th>9</th>\n",
       "      <td>False</td>\n",
       "      <td>False</td>\n",
       "      <td>False</td>\n",
       "      <td>False</td>\n",
       "      <td>False</td>\n",
       "      <td>False</td>\n",
       "    </tr>\n",
       "  </tbody>\n",
       "</table>\n",
       "</div>"
      ],
      "text/plain": [
       "   nome_studente  cognome_studente  esame_passato   voto  ore_studio  \\\n",
       "0          False             False          False  False       False   \n",
       "1          False             False          False  False       False   \n",
       "2          False             False          False  False       False   \n",
       "3          False             False          False  False       False   \n",
       "4          False             False          False  False       False   \n",
       "5          False             False          False  False       False   \n",
       "6          False             False          False  False       False   \n",
       "7          False             False          False  False       False   \n",
       "8          False             False           True   True        True   \n",
       "9          False             False          False  False       False   \n",
       "\n",
       "   nome_cognome_studente  \n",
       "0                  False  \n",
       "1                  False  \n",
       "2                  False  \n",
       "3                  False  \n",
       "4                  False  \n",
       "5                  False  \n",
       "6                  False  \n",
       "7                  False  \n",
       "8                  False  \n",
       "9                  False  "
      ]
     },
     "execution_count": 17,
     "metadata": {},
     "output_type": "execute_result"
    }
   ],
   "source": [
    "df.isna()"
   ]
  },
  {
   "cell_type": "code",
   "execution_count": 18,
   "metadata": {},
   "outputs": [
    {
     "data": {
      "text/html": [
       "<div>\n",
       "<style scoped>\n",
       "    .dataframe tbody tr th:only-of-type {\n",
       "        vertical-align: middle;\n",
       "    }\n",
       "\n",
       "    .dataframe tbody tr th {\n",
       "        vertical-align: top;\n",
       "    }\n",
       "\n",
       "    .dataframe thead th {\n",
       "        text-align: right;\n",
       "    }\n",
       "</style>\n",
       "<table border=\"1\" class=\"dataframe\">\n",
       "  <thead>\n",
       "    <tr style=\"text-align: right;\">\n",
       "      <th></th>\n",
       "      <th>0</th>\n",
       "    </tr>\n",
       "  </thead>\n",
       "  <tbody>\n",
       "    <tr>\n",
       "      <th>nome_studente</th>\n",
       "      <td>0</td>\n",
       "    </tr>\n",
       "    <tr>\n",
       "      <th>cognome_studente</th>\n",
       "      <td>0</td>\n",
       "    </tr>\n",
       "    <tr>\n",
       "      <th>esame_passato</th>\n",
       "      <td>1</td>\n",
       "    </tr>\n",
       "    <tr>\n",
       "      <th>voto</th>\n",
       "      <td>1</td>\n",
       "    </tr>\n",
       "    <tr>\n",
       "      <th>ore_studio</th>\n",
       "      <td>1</td>\n",
       "    </tr>\n",
       "    <tr>\n",
       "      <th>nome_cognome_studente</th>\n",
       "      <td>0</td>\n",
       "    </tr>\n",
       "  </tbody>\n",
       "</table>\n",
       "</div>"
      ],
      "text/plain": [
       "                       0\n",
       "nome_studente          0\n",
       "cognome_studente       0\n",
       "esame_passato          1\n",
       "voto                   1\n",
       "ore_studio             1\n",
       "nome_cognome_studente  0"
      ]
     },
     "execution_count": 18,
     "metadata": {},
     "output_type": "execute_result"
    }
   ],
   "source": [
    "df.isna().sum().to_frame()"
   ]
  },
  {
   "cell_type": "code",
   "execution_count": 19,
   "metadata": {},
   "outputs": [
    {
     "data": {
      "text/html": [
       "<div>\n",
       "<style scoped>\n",
       "    .dataframe tbody tr th:only-of-type {\n",
       "        vertical-align: middle;\n",
       "    }\n",
       "\n",
       "    .dataframe tbody tr th {\n",
       "        vertical-align: top;\n",
       "    }\n",
       "\n",
       "    .dataframe thead th {\n",
       "        text-align: right;\n",
       "    }\n",
       "</style>\n",
       "<table border=\"1\" class=\"dataframe\">\n",
       "  <thead>\n",
       "    <tr style=\"text-align: right;\">\n",
       "      <th></th>\n",
       "      <th>Conto dei nulli</th>\n",
       "    </tr>\n",
       "  </thead>\n",
       "  <tbody>\n",
       "    <tr>\n",
       "      <th>nome_studente</th>\n",
       "      <td>0</td>\n",
       "    </tr>\n",
       "    <tr>\n",
       "      <th>cognome_studente</th>\n",
       "      <td>0</td>\n",
       "    </tr>\n",
       "    <tr>\n",
       "      <th>esame_passato</th>\n",
       "      <td>1</td>\n",
       "    </tr>\n",
       "    <tr>\n",
       "      <th>voto</th>\n",
       "      <td>1</td>\n",
       "    </tr>\n",
       "    <tr>\n",
       "      <th>ore_studio</th>\n",
       "      <td>1</td>\n",
       "    </tr>\n",
       "    <tr>\n",
       "      <th>nome_cognome_studente</th>\n",
       "      <td>0</td>\n",
       "    </tr>\n",
       "  </tbody>\n",
       "</table>\n",
       "</div>"
      ],
      "text/plain": [
       "                       Conto dei nulli\n",
       "nome_studente                        0\n",
       "cognome_studente                     0\n",
       "esame_passato                        1\n",
       "voto                                 1\n",
       "ore_studio                           1\n",
       "nome_cognome_studente                0"
      ]
     },
     "execution_count": 19,
     "metadata": {},
     "output_type": "execute_result"
    }
   ],
   "source": [
    "# Statistica che conta il numero di NaN per ciascuna colonna\n",
    "df.isna().sum().to_frame().rename(columns = {0: \"Conto dei nulli\"})"
   ]
  },
  {
   "cell_type": "code",
   "execution_count": 22,
   "metadata": {},
   "outputs": [
    {
     "data": {
      "text/html": [
       "<div>\n",
       "<style scoped>\n",
       "    .dataframe tbody tr th:only-of-type {\n",
       "        vertical-align: middle;\n",
       "    }\n",
       "\n",
       "    .dataframe tbody tr th {\n",
       "        vertical-align: top;\n",
       "    }\n",
       "\n",
       "    .dataframe thead th {\n",
       "        text-align: right;\n",
       "    }\n",
       "</style>\n",
       "<table border=\"1\" class=\"dataframe\">\n",
       "  <thead>\n",
       "    <tr style=\"text-align: right;\">\n",
       "      <th></th>\n",
       "      <th>nome_studente</th>\n",
       "      <th>cognome_studente</th>\n",
       "      <th>esame_passato</th>\n",
       "      <th>voto</th>\n",
       "      <th>ore_studio</th>\n",
       "      <th>nome_cognome_studente</th>\n",
       "    </tr>\n",
       "  </thead>\n",
       "  <tbody>\n",
       "    <tr>\n",
       "      <th>0</th>\n",
       "      <td>nome_1</td>\n",
       "      <td>cognome_1</td>\n",
       "      <td>y</td>\n",
       "      <td>8.0</td>\n",
       "      <td>6.0</td>\n",
       "      <td>nome_1cognome_1</td>\n",
       "    </tr>\n",
       "    <tr>\n",
       "      <th>1</th>\n",
       "      <td>nome_2</td>\n",
       "      <td>cognome_2</td>\n",
       "      <td>n</td>\n",
       "      <td>5.0</td>\n",
       "      <td>2.0</td>\n",
       "      <td>nome_2cognome_2</td>\n",
       "    </tr>\n",
       "    <tr>\n",
       "      <th>2</th>\n",
       "      <td>nome_3</td>\n",
       "      <td>cognome_3</td>\n",
       "      <td>y</td>\n",
       "      <td>9.0</td>\n",
       "      <td>6.0</td>\n",
       "      <td>nome_3cognome_3</td>\n",
       "    </tr>\n",
       "    <tr>\n",
       "      <th>3</th>\n",
       "      <td>nome_4</td>\n",
       "      <td>cognome_4</td>\n",
       "      <td>y</td>\n",
       "      <td>10.0</td>\n",
       "      <td>7.0</td>\n",
       "      <td>nome_4cognome_4</td>\n",
       "    </tr>\n",
       "    <tr>\n",
       "      <th>4</th>\n",
       "      <td>nome_5</td>\n",
       "      <td>cognome_5</td>\n",
       "      <td>n</td>\n",
       "      <td>3.0</td>\n",
       "      <td>1.0</td>\n",
       "      <td>nome_5cognome_5</td>\n",
       "    </tr>\n",
       "    <tr>\n",
       "      <th>5</th>\n",
       "      <td>nome_6</td>\n",
       "      <td>cognome_6</td>\n",
       "      <td>y</td>\n",
       "      <td>8.0</td>\n",
       "      <td>6.0</td>\n",
       "      <td>nome_6cognome_6</td>\n",
       "    </tr>\n",
       "    <tr>\n",
       "      <th>6</th>\n",
       "      <td>nome_7</td>\n",
       "      <td>cognome_7</td>\n",
       "      <td>n</td>\n",
       "      <td>5.0</td>\n",
       "      <td>2.0</td>\n",
       "      <td>nome_7cognome_7</td>\n",
       "    </tr>\n",
       "    <tr>\n",
       "      <th>7</th>\n",
       "      <td>nome_8</td>\n",
       "      <td>cognome_8</td>\n",
       "      <td>y</td>\n",
       "      <td>9.0</td>\n",
       "      <td>6.0</td>\n",
       "      <td>nome_8cognome_8</td>\n",
       "    </tr>\n",
       "    <tr>\n",
       "      <th>9</th>\n",
       "      <td>nome_10</td>\n",
       "      <td>cognome_10</td>\n",
       "      <td>n</td>\n",
       "      <td>3.0</td>\n",
       "      <td>1.0</td>\n",
       "      <td>nome_10cognome_10</td>\n",
       "    </tr>\n",
       "  </tbody>\n",
       "</table>\n",
       "</div>"
      ],
      "text/plain": [
       "  nome_studente cognome_studente esame_passato  voto  ore_studio  \\\n",
       "0        nome_1        cognome_1             y   8.0         6.0   \n",
       "1        nome_2        cognome_2             n   5.0         2.0   \n",
       "2        nome_3        cognome_3             y   9.0         6.0   \n",
       "3        nome_4        cognome_4             y  10.0         7.0   \n",
       "4        nome_5        cognome_5             n   3.0         1.0   \n",
       "5        nome_6        cognome_6             y   8.0         6.0   \n",
       "6        nome_7        cognome_7             n   5.0         2.0   \n",
       "7        nome_8        cognome_8             y   9.0         6.0   \n",
       "9       nome_10       cognome_10             n   3.0         1.0   \n",
       "\n",
       "  nome_cognome_studente  \n",
       "0       nome_1cognome_1  \n",
       "1       nome_2cognome_2  \n",
       "2       nome_3cognome_3  \n",
       "3       nome_4cognome_4  \n",
       "4       nome_5cognome_5  \n",
       "5       nome_6cognome_6  \n",
       "6       nome_7cognome_7  \n",
       "7       nome_8cognome_8  \n",
       "9     nome_10cognome_10  "
      ]
     },
     "execution_count": 22,
     "metadata": {},
     "output_type": "execute_result"
    }
   ],
   "source": [
    "df_rimosse_righe_nan = df.dropna(axis = 0)\n",
    "df_rimosse_righe_nan.head(100)"
   ]
  },
  {
   "cell_type": "code",
   "execution_count": 23,
   "metadata": {},
   "outputs": [
    {
     "data": {
      "text/html": [
       "<div>\n",
       "<style scoped>\n",
       "    .dataframe tbody tr th:only-of-type {\n",
       "        vertical-align: middle;\n",
       "    }\n",
       "\n",
       "    .dataframe tbody tr th {\n",
       "        vertical-align: top;\n",
       "    }\n",
       "\n",
       "    .dataframe thead th {\n",
       "        text-align: right;\n",
       "    }\n",
       "</style>\n",
       "<table border=\"1\" class=\"dataframe\">\n",
       "  <thead>\n",
       "    <tr style=\"text-align: right;\">\n",
       "      <th></th>\n",
       "      <th>Conto dei nulli</th>\n",
       "    </tr>\n",
       "  </thead>\n",
       "  <tbody>\n",
       "    <tr>\n",
       "      <th>nome_studente</th>\n",
       "      <td>0</td>\n",
       "    </tr>\n",
       "    <tr>\n",
       "      <th>cognome_studente</th>\n",
       "      <td>0</td>\n",
       "    </tr>\n",
       "    <tr>\n",
       "      <th>esame_passato</th>\n",
       "      <td>0</td>\n",
       "    </tr>\n",
       "    <tr>\n",
       "      <th>voto</th>\n",
       "      <td>0</td>\n",
       "    </tr>\n",
       "    <tr>\n",
       "      <th>ore_studio</th>\n",
       "      <td>0</td>\n",
       "    </tr>\n",
       "    <tr>\n",
       "      <th>nome_cognome_studente</th>\n",
       "      <td>0</td>\n",
       "    </tr>\n",
       "  </tbody>\n",
       "</table>\n",
       "</div>"
      ],
      "text/plain": [
       "                       Conto dei nulli\n",
       "nome_studente                        0\n",
       "cognome_studente                     0\n",
       "esame_passato                        0\n",
       "voto                                 0\n",
       "ore_studio                           0\n",
       "nome_cognome_studente                0"
      ]
     },
     "execution_count": 23,
     "metadata": {},
     "output_type": "execute_result"
    }
   ],
   "source": [
    "df_rimosse_righe_nan.isna().sum().to_frame().rename(columns = {0: \"Conto dei nulli\"})"
   ]
  },
  {
   "cell_type": "code",
   "execution_count": 25,
   "metadata": {},
   "outputs": [
    {
     "data": {
      "text/html": [
       "<div>\n",
       "<style scoped>\n",
       "    .dataframe tbody tr th:only-of-type {\n",
       "        vertical-align: middle;\n",
       "    }\n",
       "\n",
       "    .dataframe tbody tr th {\n",
       "        vertical-align: top;\n",
       "    }\n",
       "\n",
       "    .dataframe thead th {\n",
       "        text-align: right;\n",
       "    }\n",
       "</style>\n",
       "<table border=\"1\" class=\"dataframe\">\n",
       "  <thead>\n",
       "    <tr style=\"text-align: right;\">\n",
       "      <th></th>\n",
       "      <th>nome_studente</th>\n",
       "      <th>cognome_studente</th>\n",
       "      <th>esame_passato</th>\n",
       "      <th>voto</th>\n",
       "      <th>ore_studio</th>\n",
       "      <th>nome_cognome_studente</th>\n",
       "    </tr>\n",
       "  </thead>\n",
       "  <tbody>\n",
       "    <tr>\n",
       "      <th>0</th>\n",
       "      <td>nome_1</td>\n",
       "      <td>cognome_1</td>\n",
       "      <td>y</td>\n",
       "      <td>8.0</td>\n",
       "      <td>6.0</td>\n",
       "      <td>nome_1cognome_1</td>\n",
       "    </tr>\n",
       "    <tr>\n",
       "      <th>1</th>\n",
       "      <td>nome_2</td>\n",
       "      <td>cognome_2</td>\n",
       "      <td>n</td>\n",
       "      <td>5.0</td>\n",
       "      <td>2.0</td>\n",
       "      <td>nome_2cognome_2</td>\n",
       "    </tr>\n",
       "    <tr>\n",
       "      <th>2</th>\n",
       "      <td>nome_3</td>\n",
       "      <td>cognome_3</td>\n",
       "      <td>y</td>\n",
       "      <td>9.0</td>\n",
       "      <td>6.0</td>\n",
       "      <td>nome_3cognome_3</td>\n",
       "    </tr>\n",
       "    <tr>\n",
       "      <th>3</th>\n",
       "      <td>nome_4</td>\n",
       "      <td>cognome_4</td>\n",
       "      <td>y</td>\n",
       "      <td>10.0</td>\n",
       "      <td>7.0</td>\n",
       "      <td>nome_4cognome_4</td>\n",
       "    </tr>\n",
       "    <tr>\n",
       "      <th>4</th>\n",
       "      <td>nome_5</td>\n",
       "      <td>cognome_5</td>\n",
       "      <td>n</td>\n",
       "      <td>3.0</td>\n",
       "      <td>1.0</td>\n",
       "      <td>nome_5cognome_5</td>\n",
       "    </tr>\n",
       "    <tr>\n",
       "      <th>5</th>\n",
       "      <td>nome_6</td>\n",
       "      <td>cognome_6</td>\n",
       "      <td>y</td>\n",
       "      <td>8.0</td>\n",
       "      <td>6.0</td>\n",
       "      <td>nome_6cognome_6</td>\n",
       "    </tr>\n",
       "    <tr>\n",
       "      <th>6</th>\n",
       "      <td>nome_7</td>\n",
       "      <td>cognome_7</td>\n",
       "      <td>n</td>\n",
       "      <td>5.0</td>\n",
       "      <td>2.0</td>\n",
       "      <td>nome_7cognome_7</td>\n",
       "    </tr>\n",
       "    <tr>\n",
       "      <th>7</th>\n",
       "      <td>nome_8</td>\n",
       "      <td>cognome_8</td>\n",
       "      <td>y</td>\n",
       "      <td>9.0</td>\n",
       "      <td>6.0</td>\n",
       "      <td>nome_8cognome_8</td>\n",
       "    </tr>\n",
       "    <tr>\n",
       "      <th>8</th>\n",
       "      <td>nome_9</td>\n",
       "      <td>cognome_9</td>\n",
       "      <td>0</td>\n",
       "      <td>0.0</td>\n",
       "      <td>0.0</td>\n",
       "      <td>nome_9cognome_9</td>\n",
       "    </tr>\n",
       "    <tr>\n",
       "      <th>9</th>\n",
       "      <td>nome_10</td>\n",
       "      <td>cognome_10</td>\n",
       "      <td>n</td>\n",
       "      <td>3.0</td>\n",
       "      <td>1.0</td>\n",
       "      <td>nome_10cognome_10</td>\n",
       "    </tr>\n",
       "  </tbody>\n",
       "</table>\n",
       "</div>"
      ],
      "text/plain": [
       "  nome_studente cognome_studente esame_passato  voto  ore_studio  \\\n",
       "0        nome_1        cognome_1             y   8.0         6.0   \n",
       "1        nome_2        cognome_2             n   5.0         2.0   \n",
       "2        nome_3        cognome_3             y   9.0         6.0   \n",
       "3        nome_4        cognome_4             y  10.0         7.0   \n",
       "4        nome_5        cognome_5             n   3.0         1.0   \n",
       "5        nome_6        cognome_6             y   8.0         6.0   \n",
       "6        nome_7        cognome_7             n   5.0         2.0   \n",
       "7        nome_8        cognome_8             y   9.0         6.0   \n",
       "8        nome_9        cognome_9             0   0.0         0.0   \n",
       "9       nome_10       cognome_10             n   3.0         1.0   \n",
       "\n",
       "  nome_cognome_studente  \n",
       "0       nome_1cognome_1  \n",
       "1       nome_2cognome_2  \n",
       "2       nome_3cognome_3  \n",
       "3       nome_4cognome_4  \n",
       "4       nome_5cognome_5  \n",
       "5       nome_6cognome_6  \n",
       "6       nome_7cognome_7  \n",
       "7       nome_8cognome_8  \n",
       "8       nome_9cognome_9  \n",
       "9     nome_10cognome_10  "
      ]
     },
     "execution_count": 25,
     "metadata": {},
     "output_type": "execute_result"
    }
   ],
   "source": [
    "df_fill_na = df.fillna(value = 0)\n",
    "df_fill_na.head(100)"
   ]
  },
  {
   "cell_type": "code",
   "execution_count": 26,
   "metadata": {},
   "outputs": [
    {
     "data": {
      "text/html": [
       "<div>\n",
       "<style scoped>\n",
       "    .dataframe tbody tr th:only-of-type {\n",
       "        vertical-align: middle;\n",
       "    }\n",
       "\n",
       "    .dataframe tbody tr th {\n",
       "        vertical-align: top;\n",
       "    }\n",
       "\n",
       "    .dataframe thead th {\n",
       "        text-align: right;\n",
       "    }\n",
       "</style>\n",
       "<table border=\"1\" class=\"dataframe\">\n",
       "  <thead>\n",
       "    <tr style=\"text-align: right;\">\n",
       "      <th></th>\n",
       "      <th>nome_studente</th>\n",
       "      <th>cognome_studente</th>\n",
       "      <th>esame_passato</th>\n",
       "      <th>voto</th>\n",
       "      <th>ore_studio</th>\n",
       "      <th>nome_cognome_studente</th>\n",
       "    </tr>\n",
       "  </thead>\n",
       "  <tbody>\n",
       "    <tr>\n",
       "      <th>0</th>\n",
       "      <td>nome_1</td>\n",
       "      <td>cognome_1</td>\n",
       "      <td>y</td>\n",
       "      <td>8.0</td>\n",
       "      <td>6.0</td>\n",
       "      <td>nome_1cognome_1</td>\n",
       "    </tr>\n",
       "    <tr>\n",
       "      <th>1</th>\n",
       "      <td>nome_2</td>\n",
       "      <td>cognome_2</td>\n",
       "      <td>n</td>\n",
       "      <td>5.0</td>\n",
       "      <td>2.0</td>\n",
       "      <td>nome_2cognome_2</td>\n",
       "    </tr>\n",
       "    <tr>\n",
       "      <th>2</th>\n",
       "      <td>nome_3</td>\n",
       "      <td>cognome_3</td>\n",
       "      <td>y</td>\n",
       "      <td>9.0</td>\n",
       "      <td>6.0</td>\n",
       "      <td>nome_3cognome_3</td>\n",
       "    </tr>\n",
       "    <tr>\n",
       "      <th>3</th>\n",
       "      <td>nome_4</td>\n",
       "      <td>cognome_4</td>\n",
       "      <td>y</td>\n",
       "      <td>10.0</td>\n",
       "      <td>7.0</td>\n",
       "      <td>nome_4cognome_4</td>\n",
       "    </tr>\n",
       "    <tr>\n",
       "      <th>4</th>\n",
       "      <td>nome_5</td>\n",
       "      <td>cognome_5</td>\n",
       "      <td>n</td>\n",
       "      <td>3.0</td>\n",
       "      <td>1.0</td>\n",
       "      <td>nome_5cognome_5</td>\n",
       "    </tr>\n",
       "    <tr>\n",
       "      <th>5</th>\n",
       "      <td>nome_6</td>\n",
       "      <td>cognome_6</td>\n",
       "      <td>y</td>\n",
       "      <td>8.0</td>\n",
       "      <td>6.0</td>\n",
       "      <td>nome_6cognome_6</td>\n",
       "    </tr>\n",
       "    <tr>\n",
       "      <th>6</th>\n",
       "      <td>nome_7</td>\n",
       "      <td>cognome_7</td>\n",
       "      <td>n</td>\n",
       "      <td>5.0</td>\n",
       "      <td>2.0</td>\n",
       "      <td>nome_7cognome_7</td>\n",
       "    </tr>\n",
       "    <tr>\n",
       "      <th>7</th>\n",
       "      <td>nome_8</td>\n",
       "      <td>cognome_8</td>\n",
       "      <td>y</td>\n",
       "      <td>9.0</td>\n",
       "      <td>6.0</td>\n",
       "      <td>nome_8cognome_8</td>\n",
       "    </tr>\n",
       "    <tr>\n",
       "      <th>8</th>\n",
       "      <td>nome_9</td>\n",
       "      <td>cognome_9</td>\n",
       "      <td>NaN</td>\n",
       "      <td>0.0</td>\n",
       "      <td>NaN</td>\n",
       "      <td>nome_9cognome_9</td>\n",
       "    </tr>\n",
       "    <tr>\n",
       "      <th>9</th>\n",
       "      <td>nome_10</td>\n",
       "      <td>cognome_10</td>\n",
       "      <td>n</td>\n",
       "      <td>3.0</td>\n",
       "      <td>1.0</td>\n",
       "      <td>nome_10cognome_10</td>\n",
       "    </tr>\n",
       "  </tbody>\n",
       "</table>\n",
       "</div>"
      ],
      "text/plain": [
       "  nome_studente cognome_studente esame_passato  voto  ore_studio  \\\n",
       "0        nome_1        cognome_1             y   8.0         6.0   \n",
       "1        nome_2        cognome_2             n   5.0         2.0   \n",
       "2        nome_3        cognome_3             y   9.0         6.0   \n",
       "3        nome_4        cognome_4             y  10.0         7.0   \n",
       "4        nome_5        cognome_5             n   3.0         1.0   \n",
       "5        nome_6        cognome_6             y   8.0         6.0   \n",
       "6        nome_7        cognome_7             n   5.0         2.0   \n",
       "7        nome_8        cognome_8             y   9.0         6.0   \n",
       "8        nome_9        cognome_9           NaN   0.0         NaN   \n",
       "9       nome_10       cognome_10             n   3.0         1.0   \n",
       "\n",
       "  nome_cognome_studente  \n",
       "0       nome_1cognome_1  \n",
       "1       nome_2cognome_2  \n",
       "2       nome_3cognome_3  \n",
       "3       nome_4cognome_4  \n",
       "4       nome_5cognome_5  \n",
       "5       nome_6cognome_6  \n",
       "6       nome_7cognome_7  \n",
       "7       nome_8cognome_8  \n",
       "8       nome_9cognome_9  \n",
       "9     nome_10cognome_10  "
      ]
     },
     "execution_count": 26,
     "metadata": {},
     "output_type": "execute_result"
    }
   ],
   "source": [
    "valori_per_nan = {\"esame passato\": \"n\", \"voto\": 0, \"ore studio\": -1}\n",
    "\n",
    "df_fill_na_giusto = df.fillna(value = valori_per_nan)\n",
    "df_fill_na_giusto.head(100)"
   ]
  },
  {
   "cell_type": "code",
   "execution_count": 27,
   "metadata": {},
   "outputs": [
    {
     "data": {
      "text/html": [
       "<div>\n",
       "<style scoped>\n",
       "    .dataframe tbody tr th:only-of-type {\n",
       "        vertical-align: middle;\n",
       "    }\n",
       "\n",
       "    .dataframe tbody tr th {\n",
       "        vertical-align: top;\n",
       "    }\n",
       "\n",
       "    .dataframe thead th {\n",
       "        text-align: right;\n",
       "    }\n",
       "</style>\n",
       "<table border=\"1\" class=\"dataframe\">\n",
       "  <thead>\n",
       "    <tr style=\"text-align: right;\">\n",
       "      <th></th>\n",
       "      <th>voto</th>\n",
       "      <th>counts</th>\n",
       "    </tr>\n",
       "  </thead>\n",
       "  <tbody>\n",
       "    <tr>\n",
       "      <th>0</th>\n",
       "      <td>3.0</td>\n",
       "      <td>2</td>\n",
       "    </tr>\n",
       "    <tr>\n",
       "      <th>1</th>\n",
       "      <td>5.0</td>\n",
       "      <td>2</td>\n",
       "    </tr>\n",
       "    <tr>\n",
       "      <th>2</th>\n",
       "      <td>8.0</td>\n",
       "      <td>2</td>\n",
       "    </tr>\n",
       "    <tr>\n",
       "      <th>3</th>\n",
       "      <td>9.0</td>\n",
       "      <td>2</td>\n",
       "    </tr>\n",
       "    <tr>\n",
       "      <th>4</th>\n",
       "      <td>10.0</td>\n",
       "      <td>1</td>\n",
       "    </tr>\n",
       "  </tbody>\n",
       "</table>\n",
       "</div>"
      ],
      "text/plain": [
       "   voto  counts\n",
       "0   3.0       2\n",
       "1   5.0       2\n",
       "2   8.0       2\n",
       "3   9.0       2\n",
       "4  10.0       1"
      ]
     },
     "execution_count": 27,
     "metadata": {},
     "output_type": "execute_result"
    }
   ],
   "source": [
    "df.groupby([\"voto\"])[\"voto\"].count().reset_index(name = \"counts\")"
   ]
  },
  {
   "cell_type": "code",
   "execution_count": 32,
   "metadata": {},
   "outputs": [
    {
     "data": {
      "image/png": "[encoded data removed]",
      "text/plain": [
       "<Figure size 640x480 with 1 Axes>"
      ]
     },
     "metadata": {},
     "output_type": "display_data"
    }
   ],
   "source": [
    "import matplotlib.pyplot as plt\n",
    "\n",
    "voti = [\"voto: 3\", \"voto: 5\", \"voto: 8\", \"voto: 9\", \"voto: 10\"]\n",
    "numeroVoti = [2, 2, 2, 2, 1]\n",
    "\n",
    "plt.bar(voti, numeroVoti)\n",
    "plt.title(\"Grafico a barre\")\n",
    "plt.show()"
   ]
  },
  {
   "cell_type": "code",
   "execution_count": null,
   "metadata": {},
   "outputs": [],
   "source": []
  }
 ],
 "metadata": {
  "application/vnd.databricks.v1+notebook": {
   "dashboards": [],
   "environmentMetadata": null,
   "language": "python",
   "notebookMetadata": {
    "pythonIndentUnit": 4
   },
   "notebookName": "Untitled Notebook 2024-05-16 14:35:00",
   "widgets": {}
  },
  "kernelspec": {
   "display_name": "Python 3 (ipykernel)",
   "language": "python",
   "name": "python3"
  },
  "language_info": {
   "codemirror_mode": {
    "name": "ipython",
    "version": 3
   },
   "file_extension": ".py",
   "mimetype": "text/x-python",
   "name": "python",
   "nbconvert_exporter": "python",
   "pygments_lexer": "ipython3",
   "version": "3.10.9"
  }
 },
 "nbformat": 4,
 "nbformat_minor": 1
}
